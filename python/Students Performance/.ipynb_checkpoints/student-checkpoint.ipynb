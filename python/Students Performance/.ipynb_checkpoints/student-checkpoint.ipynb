{
 "cells": [
  {
   "cell_type": "code",
   "execution_count": 1,
   "metadata": {},
   "outputs": [
    {
     "data": {
      "text/html": [
       "<div>\n",
       "<style scoped>\n",
       "    .dataframe tbody tr th:only-of-type {\n",
       "        vertical-align: middle;\n",
       "    }\n",
       "\n",
       "    .dataframe tbody tr th {\n",
       "        vertical-align: top;\n",
       "    }\n",
       "\n",
       "    .dataframe thead th {\n",
       "        text-align: right;\n",
       "    }\n",
       "</style>\n",
       "<table border=\"1\" class=\"dataframe\">\n",
       "  <thead>\n",
       "    <tr style=\"text-align: right;\">\n",
       "      <th></th>\n",
       "      <th>G1</th>\n",
       "      <th>G2</th>\n",
       "      <th>G3</th>\n",
       "      <th>studytime</th>\n",
       "      <th>failures</th>\n",
       "      <th>absences</th>\n",
       "    </tr>\n",
       "  </thead>\n",
       "  <tbody>\n",
       "    <tr>\n",
       "      <td>0</td>\n",
       "      <td>5</td>\n",
       "      <td>6</td>\n",
       "      <td>6</td>\n",
       "      <td>2</td>\n",
       "      <td>0</td>\n",
       "      <td>6</td>\n",
       "    </tr>\n",
       "    <tr>\n",
       "      <td>1</td>\n",
       "      <td>5</td>\n",
       "      <td>5</td>\n",
       "      <td>6</td>\n",
       "      <td>2</td>\n",
       "      <td>0</td>\n",
       "      <td>4</td>\n",
       "    </tr>\n",
       "    <tr>\n",
       "      <td>2</td>\n",
       "      <td>7</td>\n",
       "      <td>8</td>\n",
       "      <td>10</td>\n",
       "      <td>2</td>\n",
       "      <td>3</td>\n",
       "      <td>10</td>\n",
       "    </tr>\n",
       "    <tr>\n",
       "      <td>3</td>\n",
       "      <td>15</td>\n",
       "      <td>14</td>\n",
       "      <td>15</td>\n",
       "      <td>3</td>\n",
       "      <td>0</td>\n",
       "      <td>2</td>\n",
       "    </tr>\n",
       "    <tr>\n",
       "      <td>4</td>\n",
       "      <td>6</td>\n",
       "      <td>10</td>\n",
       "      <td>10</td>\n",
       "      <td>2</td>\n",
       "      <td>0</td>\n",
       "      <td>4</td>\n",
       "    </tr>\n",
       "  </tbody>\n",
       "</table>\n",
       "</div>"
      ],
      "text/plain": [
       "   G1  G2  G3  studytime  failures  absences\n",
       "0   5   6   6          2         0         6\n",
       "1   5   5   6          2         0         4\n",
       "2   7   8  10          2         3        10\n",
       "3  15  14  15          3         0         2\n",
       "4   6  10  10          2         0         4"
      ]
     },
     "execution_count": 1,
     "metadata": {},
     "output_type": "execute_result"
    }
   ],
   "source": [
    "import pickle\n",
    "import sklearn\n",
    "import numpy as np\n",
    "import pandas as pd\n",
    "import matplotlib.pyplot as plt\n",
    "from sklearn.utils import shuffle\n",
    "from sklearn.linear_model import LinearRegression\n",
    "from sklearn.model_selection import train_test_split\n",
    "\n",
    "data = pd.read_csv('student-mat.csv', sep=';')\n",
    "data = data[['G1', 'G2', 'G3', 'studytime', 'failures', 'absences']]\n",
    "\n",
    "data.head()"
   ]
  },
  {
   "cell_type": "code",
   "execution_count": 2,
   "metadata": {},
   "outputs": [
    {
     "name": "stdout",
     "output_type": "stream",
     "text": [
      "Co: [ 0.15980267  0.9749212  -0.19389353 -0.27275464  0.0371318 ]\n",
      "Intercepts: -1.5171160910949286\n"
     ]
    }
   ],
   "source": [
    "predict = 'G3'\n",
    "\n",
    "X = np.array(data.drop([predict], 1))\n",
    "y = np.array(data[predict])\n",
    "X_train, X_test, y_train, y_test = train_test_split(X, y, test_size = 0.1)\n",
    "\n",
    "'''\n",
    "best = 0\n",
    "for _ in range(30):\n",
    "    X_train, X_test, y_train, y_test = train_test_split(X, y, test_size = 0.1)\n",
    "\n",
    "    linear = LinearRegression()\n",
    "\n",
    "    best_fit_line = linear.fit(X_train, y_train)\n",
    "    acc = linear.score(X_test, y_test)\n",
    "    \n",
    "    if acc > best:\n",
    "        best = acc\n",
    "        with open('student_model.pickle', 'wb') as f:\n",
    "            pickle.dump(linear, f)\n",
    "            \n",
    "print('Accuracy:', acc)\n",
    "print('Best accuracy:', best)\n",
    "'''\n",
    "\n",
    "pickle_in = open('student_model.pickle', 'rb')\n",
    "\n",
    "linear = pickle.load(pickle_in)\n",
    "\n",
    "print('Co:', linear.coef_)\n",
    "print('Intercepts:', linear.intercept_)"
   ]
  },
  {
   "cell_type": "code",
   "execution_count": 3,
   "metadata": {},
   "outputs": [
    {
     "name": "stdout",
     "output_type": "stream",
     "text": [
      "5.211769927893268 [7 6 2 0 4] 6\n",
      "11.660335044727763 [10 12  1  0  2] 12\n",
      "4.71162696479971 [7 6 1 2 0] 0\n",
      "15.350021128226226 [16 15  2  0  2] 15\n",
      "11.045191933372589 [13 11  2  0  4] 11\n",
      "6.379028084098767 [8 7 1 1 7] 8\n",
      "12.402706607757585 [14 12  2  0 10] 11\n",
      "9.248441991074342 [10 10  3  0  0] 9\n",
      "10.097651375487864 [ 8 11  2  0  0] 11\n",
      "15.737179851763623 [14 16  3  0  0] 16\n",
      "6.420757397340264 [8 7 2 0 6] 9\n",
      "8.079627265482133 [10  9  4  0  0] 0\n",
      "11.91843662232237 [15 12  2  1  0] 12\n",
      "13.154836996739233 [14 13  2  0  4] 13\n",
      "7.909177464111163 [10  8  1  0  6] 11\n",
      "15.264482060105882 [15 15  2  0  4] 15\n",
      "11.90048320302668 [13 12  3  0  6] 12\n",
      "10.491520319135553 [10 11  2  0  2] 12\n",
      "8.347784397154694 [10  9  3  0  2] 9\n",
      "14.74490130448306 [11 15  1  0  2] 15\n",
      "8.253050305020354 [9 9 1 2 8] 9\n",
      "18.200521114923177 [16 18  2  0  0] 18\n",
      "12.760968053091544 [12 13  2  0  2] 13\n",
      "-1.7302601983904378 [5 0 1 3 0] 0\n",
      "11.915288604931485 [13 11  3  1 40] 11\n",
      "11.92329859598955 [11 12  2  0 10] 13\n",
      "5.798904065874799 [7 7 4 0 4] 6\n",
      "11.145311871424745 [12 11  2  0 11] 11\n",
      "8.296336187648564 [8 9 2 0 4] 10\n",
      "13.080573394270232 [14 13  2  0  2] 13\n",
      "6.7519026658304835 [ 7  7  1  0 14] 5\n",
      "6.16258362359252 [ 6  7  2  1 15] 8\n",
      "8.012338344783608 [10  8  2  0 14] 9\n",
      "12.60724726774277 [13 13  4  0  4] 12\n",
      "7.013085115732567 [7 8 2 0 0] 0\n",
      "6.774421330667224 [6 8 1 1 0] 8\n",
      "6.979518129368989 [10  8  1  3  3] 7\n",
      "7.247151388790913 [8 8 2 0 2] 8\n",
      "9.68942609388135 [10 10  2  1 14] 9\n",
      "11.88461022536834 [12 12  2  1 12] 13\n"
     ]
    }
   ],
   "source": [
    "predictions = linear.predict(X_test)\n",
    "\n",
    "for x in range(len(predictions)):\n",
    "    print(predictions[x], X_test[x], y_test[x])"
   ]
  },
  {
   "cell_type": "code",
   "execution_count": 4,
   "metadata": {},
   "outputs": [
    {
     "data": {
      "image/png": "[encoded data removed]",
      "text/plain": [
       "<Figure size 432x288 with 1 Axes>"
      ]
     },
     "metadata": {
      "needs_background": "light"
     },
     "output_type": "display_data"
    }
   ],
   "source": [
    "plt.title('Grade 1 and 2 VS Final Grade')\n",
    "plt.plot(data.G1, data.G3, 'o')\n",
    "plt.plot(data.G2, data.G3, 'o')\n",
    "plt.xlabel('G1 and G2')\n",
    "plt.ylabel('Final Grade')\n",
    "plt.legend(['This is G1', 'This is G2'])\n",
    "plt.show()"
   ]
  },
  {
   "cell_type": "code",
   "execution_count": 5,
   "metadata": {},
   "outputs": [
    {
     "data": {
      "image/png": "[encoded data removed]",
      "text/plain": [
       "<Figure size 432x288 with 1 Axes>"
      ]
     },
     "metadata": {
      "needs_background": "light"
     },
     "output_type": "display_data"
    }
   ],
   "source": [
    "plt.title('Study Time VS Final Grade')\n",
    "plt.bar(data.studytime, data.G3)\n",
    "plt.xlabel('Study time')\n",
    "plt.ylabel('Final Grade')\n",
    "plt.legend(['This is Study Time'])\n",
    "plt.show()"
   ]
  },
  {
   "cell_type": "code",
   "execution_count": 6,
   "metadata": {},
   "outputs": [
    {
     "data": {
      "image/png": "[encoded data removed]",
      "text/plain": [
       "<Figure size 432x288 with 1 Axes>"
      ]
     },
     "metadata": {
      "needs_background": "light"
     },
     "output_type": "display_data"
    }
   ],
   "source": [
    "plt.title('Failures VS Final Grade')\n",
    "plt.bar(data.failures, data.G3)\n",
    "plt.xlabel('Failures')\n",
    "plt.ylabel('Final Grade')\n",
    "plt.legend(['This is Failures'])\n",
    "plt.show()"
   ]
  }
 ],
 "metadata": {
  "kernelspec": {
   "display_name": "Python 3",
   "language": "python",
   "name": "python3"
  },
  "language_info": {
   "codemirror_mode": {
    "name": "ipython",
    "version": 3
   },
   "file_extension": ".py",
   "mimetype": "text/x-python",
   "name": "python",
   "nbconvert_exporter": "python",
   "pygments_lexer": "ipython3",
   "version": "3.7.4"
  }
 },
 "nbformat": 4,
 "nbformat_minor": 4
}
